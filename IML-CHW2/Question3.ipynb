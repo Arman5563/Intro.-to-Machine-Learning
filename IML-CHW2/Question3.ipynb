{
 "cells": [
  {
   "cell_type": "markdown",
   "metadata": {
    "id": "j5uereX7Mkpx"
   },
   "source": [
    "<h1 align=\"center\">An Introduction to Machine Learning - 25737</h1>\n",
    "<h4 align=\"center\">Dr. Sajjad Amini</h4>\n",
    "<h4 align=\"center\">Sharif University of Technology, Spring 2023</h4>\n",
    "\n",
    "**Student Name**: Arman Lotfalikhani\n",
    "\n",
    "**Student ID**: 99109166\n",
    "\n",
    "# Classification\n",
    "\n",
    "In this question, we will examine classification algorithms. We do not need to implement the algorithms; instead, we will use the functions available in the `scikit-learn` library to solve the question."
   ]
  },
  {
   "cell_type": "markdown",
   "metadata": {
    "id": "ZZM6ukbVNXsR"
   },
   "source": [
    "## Importing Libraries\n",
    "\n",
    "First, we import all required libraries.\n",
    "\n",
    "**Attention**: You should only use these libraries. Other libraries are not acceptable."
   ]
  },
  {
   "cell_type": "code",
   "execution_count": 2,
   "metadata": {
    "id": "cVcSib9xMcYs"
   },
   "outputs": [],
   "source": [
    "import numpy as np\n",
    "import pandas as pd\n",
    "from sklearn.datasets import load_breast_cancer\n",
    "from sklearn.model_selection import train_test_split\n",
    "from sklearn.linear_model import LogisticRegression\n",
    "from sklearn.discriminant_analysis import LinearDiscriminantAnalysis\n",
    "from sklearn.naive_bayes import GaussianNB"
   ]
  },
  {
   "cell_type": "markdown",
   "metadata": {
    "id": "1j8Wkh1_R3if"
   },
   "source": [
    "## Loading Data\n",
    "\n",
    "In this question, we will use the **Breast Cancer** dataset from `scikit-learn`. You can run the following cell to load the dataset:"
   ]
  },
  {
   "cell_type": "code",
   "execution_count": 3,
   "metadata": {
    "id": "JwrbBNTJSKmw"
   },
   "outputs": [
    {
     "name": "stdout",
     "output_type": "stream",
     "text": [
      "(569, 30)\n",
      "(569,)\n"
     ]
    }
   ],
   "source": [
    "data = load_breast_cancer() # loading cancer data\n",
    "\n",
    "X = data.data # features\n",
    "Y = data.target # labels \n",
    "\n",
    "# printing size of the features and targets\n",
    "print(X.shape)\n",
    "print(Y.shape)"
   ]
  },
  {
   "cell_type": "markdown",
   "metadata": {
    "id": "H8wrGIzsSh0g"
   },
   "source": [
    "Now you should use `train_test_split` function to split dataset into three parts:\n",
    "\n",
    "- 70% for the training set\n",
    "- 20% for the validation set\n",
    "- 10% for the test set\n",
    "\n",
    "Do this in the cell below."
   ]
  },
  {
   "cell_type": "code",
   "execution_count": 7,
   "metadata": {
    "id": "BxGOZp_OS8-y"
   },
   "outputs": [
    {
     "name": "stdout",
     "output_type": "stream",
     "text": [
      "(398, 30)\n",
      "(114, 30)\n",
      "(57, 30)\n"
     ]
    }
   ],
   "source": [
    "X_train, Y_train, X_val, Y_val, X_test, Y_test = None, None, None, None, None, None\n",
    "\n",
    "### START CODE HERE ###\n",
    "X_train, X_test, Y_train, Y_test=train_test_split(X,Y,test_size=0.1)\n",
    "X_train, X_val, Y_train, Y_val=train_test_split(X_train,Y_train,test_size=2/9)\n",
    "print(X_train.shape)\n",
    "print(X_val.shape)\n",
    "print(X_test.shape)\n",
    "### END CODE HERE ###"
   ]
  },
  {
   "cell_type": "markdown",
   "metadata": {
    "id": "8PQZhqrxTOUG"
   },
   "source": [
    "## Logistic Regression\n",
    "\n",
    "In this part of the question, you will use the `LogisticRegression` classifier to classify the data. You should change the value of `C`, which is the inverse of the regularization parameter, and find the accuracy on the validation set. Using the validation accuracy, you can find the best value for `C`. Note that you may want to change the solver for faster convergence. The `liblinear` solver is recommended for this problem. You can visit [this link](https://scikit-learn.org/stable/modules/generated/sklearn.linear_model.LogisticRegression.html) for more information about the `LogisticRegression` classifier.\n",
    "\n",
    "**Question**: What is the best value of `C`?\n",
    "\n",
    "**Answer**: Around 0.1 to 0.16. But The change in accuracy is very low for c up to 1, so these values can be used as well."
   ]
  },
  {
   "cell_type": "code",
   "execution_count": 41,
   "metadata": {
    "id": "EO71NefdUAat"
   },
   "outputs": [
    {
     "name": "stdout",
     "output_type": "stream",
     "text": [
      "c= 1e-06 score= 0.9385964912280702\n",
      "c= 1e-05 score= 0.9210526315789473\n",
      "c= 0.0001 score= 0.9210526315789473\n",
      "c= 0.001 score= 0.9385964912280702\n",
      "c= 0.01 score= 0.956140350877193\n",
      "c= 0.1 score= 0.9649122807017544\n",
      "c= 0.15 score= 0.9649122807017544\n",
      "c= 0.9 score= 0.956140350877193\n",
      "c= 1 score= 0.956140350877193\n",
      "c= 3 score= 0.956140350877193\n",
      "c= 5 score= 0.956140350877193\n",
      "c= 10 score= 0.9649122807017544\n",
      "c= 100 score= 0.956140350877193\n",
      "c= 1000 score= 0.956140350877193\n"
     ]
    }
   ],
   "source": [
    "### START CODE HERE ###\n",
    "Cvals=[0.000001, 0.00001, 0.0001, 0.001, 0.01, 0.1, 0.15, 0.9, 1, 3, 5, 10, 100, 1000]\n",
    "for c in Cvals:\n",
    "    model=LogisticRegression(solver='liblinear',C=c)\n",
    "    model.fit(X_train,Y_train)\n",
    "    print('c=',c,'score=',model.score(X_val,Y_val))\n",
    "### END CODE HERE ###"
   ]
  },
  {
   "cell_type": "markdown",
   "metadata": {
    "id": "eoHaii2pU8wZ"
   },
   "source": [
    "Now use your best classifier to calculate the accuracy on the test set.\n",
    "\n",
    "**Qusetion**: What is the accuracy of this classifier on test set?\n",
    "\n",
    "**Answer**: 92.98245614035088 %"
   ]
  },
  {
   "cell_type": "code",
   "execution_count": 24,
   "metadata": {
    "id": "jcZUGS6WVP75",
    "scrolled": true
   },
   "outputs": [
    {
     "name": "stdout",
     "output_type": "stream",
     "text": [
      "0.9298245614035088\n"
     ]
    }
   ],
   "source": [
    "### START CODE HERE ###\n",
    "model=LogisticRegression(solver='liblinear',C=0.1)\n",
    "model.fit(X_train,Y_train)\n",
    "print(model.score(X_test,Y_test))\n",
    "### END CODE HERE ###"
   ]
  },
  {
   "cell_type": "markdown",
   "metadata": {
    "id": "3lKNbTnjVQgU"
   },
   "source": [
    "For this additional part, you can use only the first two features of the dataset to classify the data and then draw the data points and the boundary on a figure. You can use the [tutorial](https://aleksandarhaber.com/solve-classification-problems-in-python-scikit-learn-and-visualize-the-classification-results-machine-learning-tutorial/?utm_source=rss&utm_medium=rss&utm_campaign=solve-classification-problems-in-python-scikit-learn-and-visualize-the-classification-results-machine-learning-tutorial) provided to learn how to do this. You may need to use additional libraries such as `matplotlib` specifically for this part."
   ]
  },
  {
   "cell_type": "code",
   "execution_count": 37,
   "metadata": {
    "id": "H149H3EIVmvn"
   },
   "outputs": [],
   "source": [
    "### START CODE HERE ###\n",
    "### END CODE HERE ###"
   ]
  },
  {
   "cell_type": "markdown",
   "metadata": {
    "id": "UoIWVF51V4BY"
   },
   "source": [
    "## Naive Bayes\n",
    "\n",
    "In this part, you will use the `GaussianNB` classifier to classify the data. You should not change the default parameters of this classifier. First, train the classifier on the training set and then find the accuracy of it on the test set.\n",
    "\n",
    "**Question**: What is the accuracy of this method on test set?\n",
    "\n",
    "**Answer**: 89.47368421052632 %"
   ]
  },
  {
   "cell_type": "code",
   "execution_count": 35,
   "metadata": {
    "id": "HdPBdhTOV3m1"
   },
   "outputs": [
    {
     "data": {
      "text/plain": [
       "0.8947368421052632"
      ]
     },
     "execution_count": 35,
     "metadata": {},
     "output_type": "execute_result"
    }
   ],
   "source": [
    "### START CODE HERE ###\n",
    "g_model=GaussianNB()\n",
    "g_model.fit(X_train,Y_train)\n",
    "g_model.score(X_test,Y_test)\n",
    "### END CODE HERE ###"
   ]
  },
  {
   "cell_type": "markdown",
   "metadata": {
    "id": "9l-KmLh-WWtP"
   },
   "source": [
    "## LDA (Linear Discriminant Analysis)\n",
    "\n",
    "In this part, you will use the `LinearDiscriminantAnalysis` classifier to classify the data. You should not change the default parameters of this classifier. First, train the classifier on the training set and then find the accuracy of it on the test set.\n",
    "\n",
    "**Question**: What is the accuracy of this method on test set?\n",
    "\n",
    "**Answer**: 94.73684210526315 %"
   ]
  },
  {
   "cell_type": "code",
   "execution_count": 36,
   "metadata": {
    "id": "GF5RAdxWWs8Y"
   },
   "outputs": [
    {
     "data": {
      "text/plain": [
       "0.9473684210526315"
      ]
     },
     "execution_count": 36,
     "metadata": {},
     "output_type": "execute_result"
    }
   ],
   "source": [
    "### START CODE HERE ###\n",
    "lda_model=LinearDiscriminantAnalysis()\n",
    "lda_model.fit(X_train,Y_train)\n",
    "lda_model.score(X_test,Y_test)\n",
    "### END CODE HERE ###"
   ]
  },
  {
   "cell_type": "markdown",
   "metadata": {
    "id": "yUwTuO5wW0FI"
   },
   "source": [
    "## Conclution\n",
    "\n",
    "**Question**: What is the best method for classifying this dataset? What is the best accuracy on the test set?\n",
    "\n",
    "**Answer**: LDA is the best classification method, followed by linear regression (the defualt sklearn model has a $\\lambda ||w||_2^2$ term) and Gaussian naive Bayes is the worst. The best accuracy is 94.74 %"
   ]
  },
  {
   "cell_type": "code",
   "execution_count": null,
   "metadata": {},
   "outputs": [],
   "source": []
  }
 ],
 "metadata": {
  "colab": {
   "provenance": []
  },
  "kernelspec": {
   "display_name": "Python 3 (ipykernel)",
   "language": "python",
   "name": "python3"
  },
  "language_info": {
   "codemirror_mode": {
    "name": "ipython",
    "version": 3
   },
   "file_extension": ".py",
   "mimetype": "text/x-python",
   "name": "python",
   "nbconvert_exporter": "python",
   "pygments_lexer": "ipython3",
   "version": "3.8.12"
  }
 },
 "nbformat": 4,
 "nbformat_minor": 1
}
