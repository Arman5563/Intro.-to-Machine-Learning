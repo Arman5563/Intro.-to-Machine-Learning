{
 "cells": [
  {
   "cell_type": "markdown",
   "metadata": {
    "id": "un_07izr0mCO"
   },
   "source": [
    "<h1 align=\"center\">An Introduction to Machine Learning - 25737</h1>\n",
    "<h4 align=\"center\">Dr. Sajjad Amini</h4>\n",
    "<h4 align=\"center\">Sharif University of Technology, Spring 2023</h4>\n",
    "\n",
    "**Student Name**: Arman Lotfalikhani\n",
    "\n",
    "**Student ID**: 99109166\n",
    "\n",
    "# Effect of Overfitting\n",
    "\n",
    "In this exercise, we want to examine the effect of **overfitting**. As you learned in class, using too many features in training can result in a model with very low loss on the training set but high loss on the validation and test set. For this purpose, we have prepared a dataset in the `q2-train.npy`, `q2-valid.npy`, and `q2-test.npy` files for you. We know that `y` is a polynomial function of `x` in this dataset, meaning that \n",
    "\n",
    "$$\n",
    "y = \\sum_{i=0}^{k}a_ix^i\n",
    "$$\n",
    "\n",
    "However, we do not know the exact value of `k`."
   ]
  },
  {
   "cell_type": "markdown",
   "metadata": {
    "id": "rcSNUeqT158e"
   },
   "source": [
    "## Importing Libraries\n",
    "\n",
    "First, we import the necessary libraries for this assignment. Please note that you should only use these libraries and no other libraries are acceptable."
   ]
  },
  {
   "cell_type": "code",
   "execution_count": 2,
   "metadata": {
    "id": "UitW8b0J0jBa"
   },
   "outputs": [],
   "source": [
    "import numpy as np\n",
    "import matplotlib.pyplot as plt"
   ]
  },
  {
   "cell_type": "markdown",
   "metadata": {
    "id": "Q1x7BaU22F4k"
   },
   "source": [
    "## Reading Data and Preprocessing\n",
    "\n",
    "In this part of the assignment, you should read data from the `.npy` files. The data in `q2-train.npy` file is your training set and should be stored in the `X_train` and `Y_train` variables. Similarly, the data in `q2-valid.npy` file is your validation set, and the data in `q2-test.npy` file is your test set, which should be stored in `X_val`, `Y_val`, `X_test`, and `Y_test` respectively. You can use the `np.load` function to read the `.npy` files."
   ]
  },
  {
   "cell_type": "code",
   "execution_count": 10,
   "metadata": {
    "id": "dDMeq10G2m0U"
   },
   "outputs": [],
   "source": [
    "X_train, Y_train, X_val, Y_val, X_test, Y_test = None, None, None, None, None, None\n",
    "\n",
    "### START CODE HERE ###\n",
    "train=np.load('q2-train.npy')\n",
    "valid=np.load('q2-valid.npy')\n",
    "test=np.load('q2-test.npy')\n",
    "\n",
    "X_train, Y_train=train[:,0],train[:,1]\n",
    "X_val, Y_val=valid[:,0],valid[:,1]\n",
    "X_test, Y_test=valid[:,0],valid[:,1]\n",
    "### END CODE HERE ###"
   ]
  },
  {
   "cell_type": "markdown",
   "metadata": {
    "id": "nyXpEfEa3Gw-"
   },
   "source": [
    "To find the best value of `k`, we want to change `k` from 1 to 12 and examine its effect on the validation set, and then choose the right value of `k`. For this purpose, we need to create a matrix with columns equal to $x^0$, $x^1$, $x^2$, ..., $x^k$ for every value of `k`. You can complete the following function to do this job. The function takes an $m \\times 1$ vector `X` containing values of input `x` and returns an $m \\times (k+1)$ matrix that has the properties mentioned above."
   ]
  },
  {
   "cell_type": "code",
   "execution_count": 21,
   "metadata": {
    "id": "DXw2tPO84Ksp"
   },
   "outputs": [],
   "source": [
    "def create_matrix(X):\n",
    "    '''\n",
    "    X: an m by 1 array \n",
    "    '''\n",
    "    new_X = None\n",
    "    ### START CODE HERE ###\n",
    "    #We know we are changing k from 0 to 12, and k is not given to us in the function. \n",
    "    #So we are forced to create the matrix for k=12 and select appropriate parts of it in later sections\n",
    "    #This is not a good way but we have no other choice, given that we cannot change the inputs\n",
    "    k=12\n",
    "    klist=np.arange(k+1)\n",
    "    m=X.shape\n",
    "    k_matrix=np.outer(klist,np.ones(m))# creates a matrix with each row having a single value from 0 to k\n",
    "    new_X=np.power(X,k_matrix).T#The resulting matrix has to be trasposed to fit the shaping criterion\n",
    "    ### END CODE HERE ###\n",
    "    return new_X"
   ]
  },
  {
   "cell_type": "markdown",
   "metadata": {
    "id": "WCTuye7C5Aq3"
   },
   "source": [
    "## Validate Model\n",
    "\n",
    "Now, we want to train our model for every value of `k`. You can use any of the methods that we used in **Question 1** (gradient descent or direct calculation) for this purpose. The following function trains our model on the training set for a given value of `k`, and then returns the loss on the training set and validation set, as well as the weight vector `w`."
   ]
  },
  {
   "cell_type": "code",
   "execution_count": 22,
   "metadata": {
    "id": "9lfWITgf7yQH"
   },
   "outputs": [],
   "source": [
    "# If you need any other function for training write it here\n",
    "# (like gradient descent or anything else)\n",
    "def direct_method(X, Y):\n",
    "    '''\n",
    "    X: an m by (n+1) matrix which includes inputs\n",
    "    Y: an m by 1 vector which includes heating loads\n",
    "    '''\n",
    "    w = None\n",
    "    ### START CODE HERE ###\n",
    "    X_dagger=np.linalg.pinv(X)\n",
    "    w=X_dagger@Y\n",
    "    ### END CODE HERE ###\n",
    "    return w\n",
    "\n",
    "def loss(X, Y, w):\n",
    "    '''\n",
    "    X: an m by (n+1) matrix which includes inputs\n",
    "    Y: an m by 1 vector which includes heating loads\n",
    "    w: an (n+1) by 1 weight vector\n",
    "    '''\n",
    "    m, n = X.shape\n",
    "    loss = None\n",
    "    ### START CODE HERE ###\n",
    "    delta=X@w-Y\n",
    "    loss=np.mean(np.power(delta,2),axis=0)\n",
    "    ### END CODE HERE ###\n",
    "    return loss"
   ]
  },
  {
   "cell_type": "code",
   "execution_count": 42,
   "metadata": {
    "id": "JaIs631q508z"
   },
   "outputs": [],
   "source": [
    "def train(X_train, Y_train, X_val, Y_val, k):\n",
    "    '''\n",
    "    X_train: an m_train by 1 vector contains training points\n",
    "    Y_train: an m_train by 1 vector contains training values\n",
    "    X_val: an m_val by 1 vector contains validation points\n",
    "    Y_val: an m_val by 1 vector contains validation values\n",
    "    k: degree of polynomial\n",
    "    '''\n",
    "    w, loss_train, loss_val = None, None, None\n",
    "    ### START CODE HERE ###\n",
    "    train_matrix=create_matrix(X_train)[:,:k+1]\n",
    "    valid_matrix=create_matrix(X_val)[:,:k+1]\n",
    "    w=direct_method(train_matrix,Y_train)\n",
    "    loss_train=loss(train_matrix,Y_train,w)\n",
    "    loss_val=loss(valid_matrix,Y_val,w)\n",
    "    ### END CODE HERE ###\n",
    "    return w, loss_train, loss_val"
   ]
  },
  {
   "cell_type": "markdown",
   "metadata": {
    "id": "eAsZfxCu6YEf"
   },
   "source": [
    "In the cell below, you can change the value of `k` between 1 and 12 and plot the loss on the training and validation set as a function of `k` in the same plot.\n",
    "\n",
    "**Question**: Discuss about the effect of $k$.\n",
    "\n",
    "**Answer**: Increasing k at first decreases the loss function on both the test set and the validation set. But after a certain value, we reach overfitting and the loss jumps to a much higher level for the validation set. It is obvious the increasing k is equal to increasing the number of model parameters."
   ]
  },
  {
   "cell_type": "code",
   "execution_count": 44,
   "metadata": {
    "id": "knUTXtOv66Wx"
   },
   "outputs": [
    {
     "data": {
      "image/png": "[encoded data removed]",
      "text/plain": [
       "<Figure size 640x480 with 1 Axes>"
      ]
     },
     "metadata": {},
     "output_type": "display_data"
    }
   ],
   "source": [
    "### START CODE HERE ###\n",
    "k=12\n",
    "klist=np.arange(k+1)\n",
    "train_loss_list=np.zeros(k+1)\n",
    "valid_loss_list=np.zeros(k+1)\n",
    "for i in range(k+1):\n",
    "    w, loss_train, loss_val=train(X_train, Y_train, X_val, Y_val, i)\n",
    "    train_loss_list[i]=loss_train\n",
    "    valid_loss_list[i]=loss_val\n",
    "\n",
    "plt.plot(train_loss_list, label='Loss on train set')\n",
    "plt.plot(valid_loss_list, label='Loss on validation set')\n",
    "plt.xlabel('k')\n",
    "plt.ylabel('Loss')\n",
    "plt.legend()\n",
    "plt.show()\n",
    "### END CODE HERE ###"
   ]
  },
  {
   "cell_type": "markdown",
   "metadata": {
    "id": "K0M1d2Ez7JLJ"
   },
   "source": [
    "## Evaluating Model\n",
    "\n",
    "In the cell below find the loss of your best model on the test set.\n",
    "\n",
    "**Question**: Why we need test set?\n",
    "\n",
    "**Answer**: We want to estimate the model performance on input data after is has been trained, so we need to separate some of the dataset and not include it in any of the training steps. This part of the data is the test set. Note that by selecting the model with the lowest error on the validation set, we have included the validation set in the training as well, so the validation and the test sets are different."
   ]
  },
  {
   "cell_type": "code",
   "execution_count": 47,
   "metadata": {
    "id": "Ex1P5H0A7emE"
   },
   "outputs": [
    {
     "name": "stdout",
     "output_type": "stream",
     "text": [
      "8\n",
      "0.11129319169042891\n"
     ]
    }
   ],
   "source": [
    "### START CODE HERE ###\n",
    "best_k=np.argmin(valid_loss_list)\n",
    "w, loss_train, loss_test=train(X_train, Y_train, X_test, Y_test, best_k)\n",
    "print(best_k)\n",
    "print(loss_test)\n",
    "### END CODE HERE ###"
   ]
  },
  {
   "cell_type": "code",
   "execution_count": null,
   "metadata": {},
   "outputs": [],
   "source": []
  }
 ],
 "metadata": {
  "colab": {
   "provenance": []
  },
  "kernelspec": {
   "display_name": "Python 3 (ipykernel)",
   "language": "python",
   "name": "python3"
  },
  "language_info": {
   "codemirror_mode": {
    "name": "ipython",
    "version": 3
   },
   "file_extension": ".py",
   "mimetype": "text/x-python",
   "name": "python",
   "nbconvert_exporter": "python",
   "pygments_lexer": "ipython3",
   "version": "3.8.12"
  }
 },
 "nbformat": 4,
 "nbformat_minor": 1
}
